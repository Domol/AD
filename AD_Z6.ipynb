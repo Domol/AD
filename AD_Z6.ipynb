{
 "cells": [
  {
   "cell_type": "markdown",
   "metadata": {},
   "source": [
    "# Zad 1.\n",
    "\n",
    "Wygeneruj dane z rozkładu jednostajnego na odcinku $[-1,1]$. \n",
    "Narysuj na jednym wykresie histogram z danych oraz gęstość rozkładu normalnego o parametrach $m=0$ oraz $sigma =1$."
   ]
  },
  {
   "cell_type": "code",
   "execution_count": 1,
   "metadata": {
    "collapsed": false
   },
   "outputs": [
    {
     "data": {
      "image/png": "[encoded data removed]",
      "text/plain": [
       "<matplotlib.figure.Figure at 0xb66313748>"
      ]
     },
     "metadata": {},
     "output_type": "display_data"
    }
   ],
   "source": [
    "import numpy as np\n",
    "import matplotlib.pyplot as plt\n",
    "import matplotlib.mlab as mlab\n",
    "\n",
    "N = 1000\n",
    "mu = 0 # mean of distribution\n",
    "sigma = 1 # standard deviation of distribution\n",
    "num_bins = 50\n",
    "\n",
    "#X = np.concatenate((np.random.normal(0, 1, N) ,np.random.normal(5, 1, N)))\n",
    "X = np.random.normal(mu, sigma, N)\n",
    "n, bins, patches = plt.hist(X, num_bins, normed=1, facecolor='green', alpha=0.5)\n",
    "y = mlab.normpdf(bins, mu, sigma)\n",
    "plt.plot(bins, y, 'r--')\n",
    "plt.show()"
   ]
  },
  {
   "cell_type": "markdown",
   "metadata": {},
   "source": [
    "# Zad 2.\n",
    "\n",
    "Wygeneruj dane z rozkładu jednostajnego na odcinku [-1,1]. \n",
    "Narysuj histogram z danych oraz optymalny (najlepszy z punktu widzenia MLE http://faculty.washington.edu/ezivot/econ583/mleLectures.pdf) rozkład normalny opisujący dane.\n",
    "Użyj estymatorów największej wiarygodności dla $m$ i $sigma$."
   ]
  },
  {
   "cell_type": "code",
   "execution_count": null,
   "metadata": {
    "collapsed": true
   },
   "outputs": [],
   "source": []
  },
  {
   "cell_type": "markdown",
   "metadata": {},
   "source": [
    "# Zad 3.\n",
    "\n",
    "Wygeneruj dane z rozkładu normalnego o parametrach $m=0$ oraz $sigma =1$. \n",
    "Narysuj histogram z danych oraz optymalny (najlepszy z punktu widzenia MLE) rozkład normalny opisujący dane.\n",
    "\n",
    "Użyj estymatorów największej wiarygodności dla m i sigma."
   ]
  },
  {
   "cell_type": "code",
   "execution_count": null,
   "metadata": {
    "collapsed": true
   },
   "outputs": [],
   "source": []
  },
  {
   "cell_type": "markdown",
   "metadata": {},
   "source": [
    "# Zad 4.\n",
    "\n",
    "Wygeneruj dane z rozkładu jednostajnego na odcinku [-1,1]. \n",
    "Napisz funkcję wyliczającą wartość logarytmicznej funkcji wiarygodności względem rodziny rozkładów normalnych dla zadanego zbioru danych. Policz jej wartość dla próbki oraz:\n",
    "\n",
    "  * $m = 0$, $sigma =1$\n",
    "  * $m = 1$, $sigma =1.1$\n",
    "  * $m = 0$, $sigma =0.9$\n",
    "  * $m = 1$, $sigma =1$"
   ]
  },
  {
   "cell_type": "code",
   "execution_count": null,
   "metadata": {
    "collapsed": true
   },
   "outputs": [],
   "source": []
  },
  {
   "cell_type": "markdown",
   "metadata": {},
   "source": [
    "# Zad 5.\n",
    "\n",
    "Wygeneruj dane z rozkładu normalnego o parametrach $m=0$ oraz $sigma =1$. \n",
    "Zminimalizuj zlogarytmowaną funkcję wiarygodności dla rodziny rozkładów normalnych względem parametrów m i sigma. Narysuj histogram z danych oraz optymalny (najlepszy z punktu widzenia MLE) rozkład normalny opisujący dane.\n",
    "\n",
    "Użyj wyliczonych wartości m i sigma."
   ]
  },
  {
   "cell_type": "code",
   "execution_count": null,
   "metadata": {
    "collapsed": true
   },
   "outputs": [],
   "source": []
  },
  {
   "cell_type": "markdown",
   "metadata": {},
   "source": [
    "# Zad 6.\n",
    "Wygeneruj dane z rozkładu jednostajnego na odcinku $[-1,1]$. Zminimalizuj zlogarytmowaną funkcję wiarygodności dla rodziny rozkładów Split Normal Distribution http://ww2.ii.uj.edu.pl/~spurek/AD_15_16/1.pdf względem parametrów m, sigma i tau. Narysuj histogram z danych oraz optymalny (najlepszy z punktu widzenia MLE) rozkład Split Normal Distribution."
   ]
  },
  {
   "cell_type": "code",
   "execution_count": null,
   "metadata": {
    "collapsed": true
   },
   "outputs": [],
   "source": []
  },
  {
   "cell_type": "markdown",
   "metadata": {},
   "source": [
    "# Zad 7.\n",
    "Pobierz dowolny plik z dźwiękiem. Zminimalizuj zlogarytmowaną funkcję wiarygodności dla rodziny rozkładów:\n",
    "\n",
    "  * Rozkładów normalnych\n",
    "  * Split Normal Distribution\n",
    "\n",
    "Narysuj wyniki ora porównaj wartości zlogarytmowanej funkcji wiarygodności."
   ]
  },
  {
   "cell_type": "code",
   "execution_count": null,
   "metadata": {
    "collapsed": true
   },
   "outputs": [],
   "source": []
  }
 ],
 "metadata": {
  "kernelspec": {
   "display_name": "Python 3",
   "language": "python",
   "name": "python3"
  },
  "language_info": {
   "codemirror_mode": {
    "name": "ipython",
    "version": 3
   },
   "file_extension": ".py",
   "mimetype": "text/x-python",
   "name": "python",
   "nbconvert_exporter": "python",
   "pygments_lexer": "ipython3",
   "version": "3.6.0"
  }
 },
 "nbformat": 4,
 "nbformat_minor": 2
}
