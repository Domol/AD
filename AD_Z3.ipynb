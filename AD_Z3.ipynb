{
 "cells": [
  {
   "cell_type": "markdown",
   "metadata": {
    "collapsed": true
   },
   "source": [
    "## Zadanie\n",
    "\n",
    "Wylosuj próbkę 1000-elementową z rozkładu normalnego za pomocą metody odrzucania.\n",
    "  http://staff.iiar.pwr.wroc.pl/grzegorz.mzyk/kmi/kmi03.pdf"
   ]
  },
  {
   "cell_type": "code",
   "execution_count": null,
   "metadata": {
    "collapsed": true
   },
   "outputs": [],
   "source": []
  },
  {
   "cell_type": "markdown",
   "metadata": {},
   "source": [
    "## Zadanie\n",
    "Narysuj gęstość rozkładu Split normal distribution (1d) http://ww2.ii.uj.edu.pl/~spurek/AD_15_16/1.pdf\n",
    "z różnymi parametrami:\n",
    "\n",
    "  * $m=0$, $\\sigma=1$, $\\tau=1$\n",
    "  * $m=0$, $\\sigma=2$, $\\tau=1$\n",
    "  * $m=0$, $\\sigma=1$, $\\tau=2$\n",
    "  * $m=2$, $\\sigma=1$, $\\tau=2$  "
   ]
  },
  {
   "cell_type": "code",
   "execution_count": null,
   "metadata": {
    "collapsed": true
   },
   "outputs": [],
   "source": []
  },
  {
   "cell_type": "markdown",
   "metadata": {},
   "source": [
    "## Zadanie\n",
    "Wylosuj próbkę 1000-elementową z rozkładu normalnego Split normal distribution (1d) z różnymi parametrami za pomocą metody odrzucania."
   ]
  },
  {
   "cell_type": "code",
   "execution_count": null,
   "metadata": {
    "collapsed": true
   },
   "outputs": [],
   "source": []
  },
  {
   "cell_type": "markdown",
   "metadata": {},
   "source": [
    "## Zadanie\n",
    "\n",
    "Narysuj wykres 3d Split normal distribution \n",
    "http://ww2.ii.uj.edu.pl/~spurek/AD_15_16/1.pdf\n",
    "\n",
    "z różnymi parametrami:\n",
    "  \n",
    "  * $m=[0,0]$  \n",
    "  \n",
    "  $W = \\begin{bmatrix}\n",
    "  1 & 0 \\\\\n",
    "  0 & 1\n",
    "  \\end{bmatrix}\n",
    "  $\n",
    "  \n",
    "  $\\sigma=[1,1]$\n",
    "  \n",
    "  $\\tau=[1,1]$\n",
    "  * $m=[0,0]$  \n",
    "  \n",
    "  $W = \\begin{bmatrix}\n",
    "  1 & 0 \\\\\n",
    "  0 & 1\n",
    "  \\end{bmatrix}\n",
    "  $\n",
    "  \n",
    "  $\\sigma=[1,1]$\n",
    "  \n",
    "  $\\tau=[1,2]$  \n",
    "  * $m=[0,0]$  \n",
    "  \n",
    "  $W = \\begin{bmatrix}\n",
    "  1 & 0 \\\\\n",
    "  0 & 1\n",
    "  \\end{bmatrix}\n",
    "  $\n",
    "  \n",
    "  $\\sigma=[1,1]$\n",
    "  \n",
    "  $\\tau=[2,2]$    \n",
    "  * $m=[0,0]$  \n",
    "  \n",
    "  $W = \\begin{bmatrix}\n",
    "  \\cos(\\pi/4) & \\sin(\\pi/4) \\\\\n",
    "  -\\sin(\\pi/4) & \\cos(\\pi/4) \n",
    "  \\end{bmatrix}\n",
    "  $\n",
    "  \n",
    "  $\\sigma=[1,1]$\n",
    "  \n",
    "  $\\tau=[1,1]$    \n",
    "  * $m=[0,0]$  \n",
    "  \n",
    "  $W = \\begin{bmatrix}\n",
    "  \\cos(\\pi/4) & \\sin(\\pi/4) \\\\\n",
    "  -\\sin(\\pi/4) & \\cos(\\pi/4) \n",
    "  \\end{bmatrix}\n",
    "  $\n",
    "  \n",
    "  $\\sigma=[1,1]$\n",
    "  \n",
    "  $\\tau=[2,1]$    \n",
    "  \n",
    "\n",
    "  "
   ]
  },
  {
   "cell_type": "code",
   "execution_count": null,
   "metadata": {
    "collapsed": true
   },
   "outputs": [],
   "source": []
  },
  {
   "cell_type": "markdown",
   "metadata": {},
   "source": [
    "## Zadanie\n",
    "Wylosuj próbkę z dwuwymiarowego rozkładu normalnego Split normal distribution (2d). Narysuj próbkę i poziomice rozkładu dla parametrów:\n",
    "\n",
    "* $m=[0,0]$  \n",
    "  \n",
    "  $W = \\begin{bmatrix}\n",
    "  \\cos(\\pi/4) & \\sin(\\pi/4) \\\\\n",
    "  -\\sin(\\pi/4) & \\cos(\\pi/4) \n",
    "  \\end{bmatrix}\n",
    "  $\n",
    "  \n",
    "  $\\sigma=[1,1]$\n",
    "  \n",
    "  $\\tau=[2,1]$   \n",
    "\n"
   ]
  },
  {
   "cell_type": "markdown",
   "metadata": {},
   "source": [
    "## Zadanie\n",
    "\n",
    "Zad 9.\n",
    "Napisz program znajdujący minimum i maksimum funkcji metodą gradientową (można użyć wbudowanych narzędzi).\n",
    "\n",
    "$$\n",
    "f(x_1,x_2)=100 * (x_2 - x_1 * x_1)^2 + (1 - x_1)^2 \n",
    "$$\n",
    "\n",
    "$$\n",
    "f'_{x_1}=-400 * x_1 * (x_2 - x_1 * x_1) - 2 * (1 - x_1) \n",
    "$$\n",
    "\n",
    "$$\n",
    "f'_{x_2}=200 * (x_2 - x_1 * x_1) \n",
    "$$"
   ]
  },
  {
   "cell_type": "code",
   "execution_count": null,
   "metadata": {
    "collapsed": true
   },
   "outputs": [],
   "source": []
  }
 ],
 "metadata": {
  "kernelspec": {
   "display_name": "Python 3",
   "language": "python",
   "name": "python3"
  },
  "language_info": {
   "codemirror_mode": {
    "name": "ipython",
    "version": 3
   },
   "file_extension": ".py",
   "mimetype": "text/x-python",
   "name": "python",
   "nbconvert_exporter": "python",
   "pygments_lexer": "ipython3",
   "version": "3.6.0"
  }
 },
 "nbformat": 4,
 "nbformat_minor": 0
}
